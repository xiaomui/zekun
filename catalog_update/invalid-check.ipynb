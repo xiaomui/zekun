{
 "cells": [
  {
   "cell_type": "code",
   "execution_count": 3,
   "metadata": {},
   "outputs": [],
   "source": [
    "import re\n",
    "import pandas as pd\n",
    "import os\n",
    "\n",
    "\n",
    "invalid_df = pd.read_excel('特殊符号.xlsx',header=None)\n",
    "input_df = pd.read_excel('asin list.xlsx')              \n",
    "                "
   ]
  },
  {
   "cell_type": "code",
   "execution_count": 2,
   "metadata": {},
   "outputs": [
    {
     "name": "stdout",
     "output_type": "stream",
     "text": [
      "Collecting xlrd\n",
      "  Downloading https://files.pythonhosted.org/packages/b0/16/63576a1a001752e34bf8ea62e367997530dc553b689356b9879339cf45a4/xlrd-1.2.0-py2.py3-none-any.whl (103kB)\n",
      "Installing collected packages: xlrd\n",
      "Successfully installed xlrd-1.2.0\n"
     ]
    }
   ],
   "source": [
    "!pip install xlrd"
   ]
  },
  {
   "cell_type": "code",
   "execution_count": null,
   "metadata": {},
   "outputs": [],
   "source": []
  },
  {
   "cell_type": "code",
   "execution_count": 4,
   "metadata": {},
   "outputs": [],
   "source": [
    "def iter_invalid_set(col_val,invalid_set):\n",
    "    for invalid in invalid_set:\n",
    "        invalid = str(invalid)\n",
    "        if invalid in col_val:\n",
    "            \n",
    "            col_val = col_val.replace(invalid,' ')\n",
    "\n",
    "    return col_val\n",
    "            "
   ]
  },
  {
   "cell_type": "code",
   "execution_count": 13,
   "metadata": {},
   "outputs": [],
   "source": [
    "def generate_new_invalid(col_val):\n",
    "    pattern = re.compile('[^(a-z\\dA-Z\\s.\"-,//:;@\\'?+><\\^\\|\\u4e00-\\u9fa5\\uac00-\\ud7ff\\u30a0-\\u30ff\\u3040-\\u309f\\u3000-\\u303f\\ufb00-\\ufffd)]')\n",
    "    new_invalid = set()\n",
    "    for e in col_val:\n",
    "        if pattern.match(e)!=None:\n",
    "            new_invalid.add(e)\n",
    "    return new_invalid"
   ]
  },
  {
   "cell_type": "code",
   "execution_count": 14,
   "metadata": {},
   "outputs": [],
   "source": [
    "def check_and_output(invalid_df,input_df):\n",
    "    \n",
    "    columns = input_df.columns\n",
    "    invalid_values = invalid_df[0].values\n",
    "    invalid_set = set(invalid_values)\n",
    "    lines = []\n",
    "    for i in input_df.index:\n",
    "        row = input_df.loc[i]\n",
    "        \n",
    "        asin = row.iloc[0]\n",
    "        new_row = [asin]\n",
    "        row_invalid_new = set()\n",
    "        for i in range(1,len(columns)):\n",
    "            col_val = row[columns[i]]\n",
    "            new_col_val= col_val\n",
    "            if str(col_val)!='nan':\n",
    "                col_val = str(col_val)\n",
    "                new_col_val = iter_invalid_set(col_val,invalid_set)\n",
    "                \n",
    "                new_row.append(new_col_val)\n",
    "                row_invalid_new = row_invalid_new | generate_new_invalid(new_col_val)\n",
    "            else:\n",
    "                new_row.append(new_col_val)\n",
    "            \n",
    "        row_invalid_string = '|'.join(row_invalid_new)\n",
    "        new_row.append(row_invalid_string)\n",
    "        line = tuple(new_row)\n",
    "        lines.append(line)\n",
    "    return lines\n",
    "            "
   ]
  },
  {
   "cell_type": "code",
   "execution_count": 15,
   "metadata": {},
   "outputs": [],
   "source": [
    "lines = check_and_output(invalid_df,input_df)"
   ]
  },
  {
   "cell_type": "code",
   "execution_count": 16,
   "metadata": {},
   "outputs": [
    {
     "data": {
      "text/plain": [
       "('B000GQ3ZL4',\n",
       " '分区三明治网布，与动力学中足系统实现更胜一筹的贴合和支持性的跑步体验；采用稳固中底填料的双倍密度系统和柔软的内部中底核心，创造出流畅、缓震的奔跑体验；华夫外底图案设计，实现从脚跟到脚趾的流畅转移，提供***的耐用性',\n",
       " nan,\n",
       " nan,\n",
       " '')"
      ]
     },
     "execution_count": 16,
     "metadata": {},
     "output_type": "execute_result"
    }
   ],
   "source": []
  },
  {
   "cell_type": "code",
   "execution_count": null,
   "metadata": {
    "scrolled": true
   },
   "outputs": [],
   "source": []
  },
  {
   "cell_type": "code",
   "execution_count": 19,
   "metadata": {},
   "outputs": [],
   "source": [
    "result = pd.DataFrame(lines)\n",
    "result.to_excel('result.xlsx')"
   ]
  },
  {
   "cell_type": "code",
   "execution_count": 18,
   "metadata": {},
   "outputs": [
    {
     "name": "stdout",
     "output_type": "stream",
     "text": [
      "Collecting openpyxl\n",
      "  Downloading https://files.pythonhosted.org/packages/08/8a/509eb6f58672288da9a5884e1cc7e90819bc8dbef501161c4b40a6a4e46b/openpyxl-2.5.12.tar.gz (173kB)\n",
      "Collecting jdcal (from openpyxl)\n",
      "  Downloading https://files.pythonhosted.org/packages/a0/38/dcf83532480f25284f3ef13f8ed63e03c58a65c9d3ba2a6a894ed9497207/jdcal-1.4-py2.py3-none-any.whl\n",
      "Collecting et_xmlfile (from openpyxl)\n",
      "  Downloading https://files.pythonhosted.org/packages/22/28/a99c42aea746e18382ad9fb36f64c1c1f04216f41797f2f0fa567da11388/et_xmlfile-1.0.1.tar.gz\n",
      "Installing collected packages: jdcal, et-xmlfile, openpyxl\n",
      "  Running setup.py install for et-xmlfile: started\n",
      "    Running setup.py install for et-xmlfile: finished with status 'done'\n",
      "  Running setup.py install for openpyxl: started\n",
      "    Running setup.py install for openpyxl: finished with status 'done'\n",
      "Successfully installed et-xmlfile-1.0.1 jdcal-1.4 openpyxl-2.5.12\n"
     ]
    }
   ],
   "source": [
    "!pip install openpyxl"
   ]
  },
  {
   "cell_type": "code",
   "execution_count": 23,
   "metadata": {},
   "outputs": [
    {
     "data": {
      "text/plain": [
       "array(['', '-', '–', '–|-', '·', '…', '~', '·|-', '·|’|‘', '—', '_',\n",
       "       '·|—|-', '~|-', '—|-', '―'], dtype=object)"
      ]
     },
     "execution_count": 23,
     "metadata": {},
     "output_type": "execute_result"
    }
   ],
   "source": []
  },
  {
   "cell_type": "code",
   "execution_count": null,
   "metadata": {},
   "outputs": [],
   "source": []
  }
 ],
 "metadata": {
  "kernelspec": {
   "display_name": "Python 3",
   "language": "python",
   "name": "python3"
  },
  "toc": {
   "base_numbering": 1,
   "nav_menu": {},
   "number_sections": true,
   "sideBar": true,
   "skip_h1_title": false,
   "title_cell": "Table of Contents",
   "title_sidebar": "Contents",
   "toc_cell": false,
   "toc_position": {},
   "toc_section_display": true,
   "toc_window_display": false
  }
 },
 "nbformat": 4,
 "nbformat_minor": 2
}
